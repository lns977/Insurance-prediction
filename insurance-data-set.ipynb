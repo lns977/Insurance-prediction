{
 "cells": [
  {
   "cell_type": "code",
   "execution_count": 1,
   "id": "eb377902",
   "metadata": {
    "_cell_guid": "b1076dfc-b9ad-4769-8c92-a6c4dae69d19",
    "_uuid": "8f2839f25d086af736a60e9eeb907d3b93b6e0e5",
    "execution": {
     "iopub.execute_input": "2023-08-19T20:29:40.284192Z",
     "iopub.status.busy": "2023-08-19T20:29:40.283134Z",
     "iopub.status.idle": "2023-08-19T20:29:40.295881Z",
     "shell.execute_reply": "2023-08-19T20:29:40.294990Z"
    },
    "papermill": {
     "duration": 0.028824,
     "end_time": "2023-08-19T20:29:40.297978",
     "exception": false,
     "start_time": "2023-08-19T20:29:40.269154",
     "status": "completed"
    },
    "tags": []
   },
   "outputs": [],
   "source": [
    "import numpy as np\n",
    "import pandas as pd\n",
    "import matplotlib.pyplot as plt"
   ]
  },
  {
   "cell_type": "code",
   "execution_count": 2,
   "id": "7b8953f7",
   "metadata": {
    "execution": {
     "iopub.execute_input": "2023-08-19T20:29:40.323669Z",
     "iopub.status.busy": "2023-08-19T20:29:40.323371Z",
     "iopub.status.idle": "2023-08-19T20:29:40.351273Z",
     "shell.execute_reply": "2023-08-19T20:29:40.350396Z"
    },
    "papermill": {
     "duration": 0.043209,
     "end_time": "2023-08-19T20:29:40.353478",
     "exception": false,
     "start_time": "2023-08-19T20:29:40.310269",
     "status": "completed"
    },
    "tags": []
   },
   "outputs": [],
   "source": [
    "df = pd.read_csv('/kaggle/input/insurance/insurance.csv')"
   ]
  },
  {
   "cell_type": "code",
   "execution_count": 3,
   "id": "f0a6c67a",
   "metadata": {
    "execution": {
     "iopub.execute_input": "2023-08-19T20:29:40.379996Z",
     "iopub.status.busy": "2023-08-19T20:29:40.379713Z",
     "iopub.status.idle": "2023-08-19T20:29:40.406744Z",
     "shell.execute_reply": "2023-08-19T20:29:40.405632Z"
    },
    "papermill": {
     "duration": 0.043528,
     "end_time": "2023-08-19T20:29:40.410255",
     "exception": false,
     "start_time": "2023-08-19T20:29:40.366727",
     "status": "completed"
    },
    "tags": []
   },
   "outputs": [
    {
     "data": {
      "text/html": [
       "<div>\n",
       "<style scoped>\n",
       "    .dataframe tbody tr th:only-of-type {\n",
       "        vertical-align: middle;\n",
       "    }\n",
       "\n",
       "    .dataframe tbody tr th {\n",
       "        vertical-align: top;\n",
       "    }\n",
       "\n",
       "    .dataframe thead th {\n",
       "        text-align: right;\n",
       "    }\n",
       "</style>\n",
       "<table border=\"1\" class=\"dataframe\">\n",
       "  <thead>\n",
       "    <tr style=\"text-align: right;\">\n",
       "      <th></th>\n",
       "      <th>age</th>\n",
       "      <th>sex</th>\n",
       "      <th>bmi</th>\n",
       "      <th>children</th>\n",
       "      <th>smoker</th>\n",
       "      <th>region</th>\n",
       "      <th>charges</th>\n",
       "    </tr>\n",
       "  </thead>\n",
       "  <tbody>\n",
       "    <tr>\n",
       "      <th>0</th>\n",
       "      <td>19</td>\n",
       "      <td>female</td>\n",
       "      <td>27.900</td>\n",
       "      <td>0</td>\n",
       "      <td>yes</td>\n",
       "      <td>southwest</td>\n",
       "      <td>16884.92400</td>\n",
       "    </tr>\n",
       "    <tr>\n",
       "      <th>1</th>\n",
       "      <td>18</td>\n",
       "      <td>male</td>\n",
       "      <td>33.770</td>\n",
       "      <td>1</td>\n",
       "      <td>no</td>\n",
       "      <td>southeast</td>\n",
       "      <td>1725.55230</td>\n",
       "    </tr>\n",
       "    <tr>\n",
       "      <th>2</th>\n",
       "      <td>28</td>\n",
       "      <td>male</td>\n",
       "      <td>33.000</td>\n",
       "      <td>3</td>\n",
       "      <td>no</td>\n",
       "      <td>southeast</td>\n",
       "      <td>4449.46200</td>\n",
       "    </tr>\n",
       "    <tr>\n",
       "      <th>3</th>\n",
       "      <td>33</td>\n",
       "      <td>male</td>\n",
       "      <td>22.705</td>\n",
       "      <td>0</td>\n",
       "      <td>no</td>\n",
       "      <td>northwest</td>\n",
       "      <td>21984.47061</td>\n",
       "    </tr>\n",
       "    <tr>\n",
       "      <th>4</th>\n",
       "      <td>32</td>\n",
       "      <td>male</td>\n",
       "      <td>28.880</td>\n",
       "      <td>0</td>\n",
       "      <td>no</td>\n",
       "      <td>northwest</td>\n",
       "      <td>3866.85520</td>\n",
       "    </tr>\n",
       "    <tr>\n",
       "      <th>5</th>\n",
       "      <td>31</td>\n",
       "      <td>female</td>\n",
       "      <td>25.740</td>\n",
       "      <td>0</td>\n",
       "      <td>no</td>\n",
       "      <td>southeast</td>\n",
       "      <td>3756.62160</td>\n",
       "    </tr>\n",
       "    <tr>\n",
       "      <th>6</th>\n",
       "      <td>46</td>\n",
       "      <td>female</td>\n",
       "      <td>33.440</td>\n",
       "      <td>1</td>\n",
       "      <td>no</td>\n",
       "      <td>southeast</td>\n",
       "      <td>8240.58960</td>\n",
       "    </tr>\n",
       "    <tr>\n",
       "      <th>7</th>\n",
       "      <td>37</td>\n",
       "      <td>female</td>\n",
       "      <td>27.740</td>\n",
       "      <td>3</td>\n",
       "      <td>no</td>\n",
       "      <td>northwest</td>\n",
       "      <td>7281.50560</td>\n",
       "    </tr>\n",
       "    <tr>\n",
       "      <th>8</th>\n",
       "      <td>37</td>\n",
       "      <td>male</td>\n",
       "      <td>29.830</td>\n",
       "      <td>2</td>\n",
       "      <td>no</td>\n",
       "      <td>northeast</td>\n",
       "      <td>6406.41070</td>\n",
       "    </tr>\n",
       "    <tr>\n",
       "      <th>9</th>\n",
       "      <td>60</td>\n",
       "      <td>female</td>\n",
       "      <td>25.840</td>\n",
       "      <td>0</td>\n",
       "      <td>no</td>\n",
       "      <td>northwest</td>\n",
       "      <td>28923.13692</td>\n",
       "    </tr>\n",
       "    <tr>\n",
       "      <th>10</th>\n",
       "      <td>25</td>\n",
       "      <td>male</td>\n",
       "      <td>26.220</td>\n",
       "      <td>0</td>\n",
       "      <td>no</td>\n",
       "      <td>northeast</td>\n",
       "      <td>2721.32080</td>\n",
       "    </tr>\n",
       "    <tr>\n",
       "      <th>11</th>\n",
       "      <td>62</td>\n",
       "      <td>female</td>\n",
       "      <td>26.290</td>\n",
       "      <td>0</td>\n",
       "      <td>yes</td>\n",
       "      <td>southeast</td>\n",
       "      <td>27808.72510</td>\n",
       "    </tr>\n",
       "    <tr>\n",
       "      <th>12</th>\n",
       "      <td>23</td>\n",
       "      <td>male</td>\n",
       "      <td>34.400</td>\n",
       "      <td>0</td>\n",
       "      <td>no</td>\n",
       "      <td>southwest</td>\n",
       "      <td>1826.84300</td>\n",
       "    </tr>\n",
       "    <tr>\n",
       "      <th>13</th>\n",
       "      <td>56</td>\n",
       "      <td>female</td>\n",
       "      <td>39.820</td>\n",
       "      <td>0</td>\n",
       "      <td>no</td>\n",
       "      <td>southeast</td>\n",
       "      <td>11090.71780</td>\n",
       "    </tr>\n",
       "    <tr>\n",
       "      <th>14</th>\n",
       "      <td>27</td>\n",
       "      <td>male</td>\n",
       "      <td>42.130</td>\n",
       "      <td>0</td>\n",
       "      <td>yes</td>\n",
       "      <td>southeast</td>\n",
       "      <td>39611.75770</td>\n",
       "    </tr>\n",
       "    <tr>\n",
       "      <th>15</th>\n",
       "      <td>19</td>\n",
       "      <td>male</td>\n",
       "      <td>24.600</td>\n",
       "      <td>1</td>\n",
       "      <td>no</td>\n",
       "      <td>southwest</td>\n",
       "      <td>1837.23700</td>\n",
       "    </tr>\n",
       "    <tr>\n",
       "      <th>16</th>\n",
       "      <td>52</td>\n",
       "      <td>female</td>\n",
       "      <td>30.780</td>\n",
       "      <td>1</td>\n",
       "      <td>no</td>\n",
       "      <td>northeast</td>\n",
       "      <td>10797.33620</td>\n",
       "    </tr>\n",
       "    <tr>\n",
       "      <th>17</th>\n",
       "      <td>23</td>\n",
       "      <td>male</td>\n",
       "      <td>23.845</td>\n",
       "      <td>0</td>\n",
       "      <td>no</td>\n",
       "      <td>northeast</td>\n",
       "      <td>2395.17155</td>\n",
       "    </tr>\n",
       "    <tr>\n",
       "      <th>18</th>\n",
       "      <td>56</td>\n",
       "      <td>male</td>\n",
       "      <td>40.300</td>\n",
       "      <td>0</td>\n",
       "      <td>no</td>\n",
       "      <td>southwest</td>\n",
       "      <td>10602.38500</td>\n",
       "    </tr>\n",
       "    <tr>\n",
       "      <th>19</th>\n",
       "      <td>30</td>\n",
       "      <td>male</td>\n",
       "      <td>35.300</td>\n",
       "      <td>0</td>\n",
       "      <td>yes</td>\n",
       "      <td>southwest</td>\n",
       "      <td>36837.46700</td>\n",
       "    </tr>\n",
       "  </tbody>\n",
       "</table>\n",
       "</div>"
      ],
      "text/plain": [
       "    age     sex     bmi  children smoker     region      charges\n",
       "0    19  female  27.900         0    yes  southwest  16884.92400\n",
       "1    18    male  33.770         1     no  southeast   1725.55230\n",
       "2    28    male  33.000         3     no  southeast   4449.46200\n",
       "3    33    male  22.705         0     no  northwest  21984.47061\n",
       "4    32    male  28.880         0     no  northwest   3866.85520\n",
       "5    31  female  25.740         0     no  southeast   3756.62160\n",
       "6    46  female  33.440         1     no  southeast   8240.58960\n",
       "7    37  female  27.740         3     no  northwest   7281.50560\n",
       "8    37    male  29.830         2     no  northeast   6406.41070\n",
       "9    60  female  25.840         0     no  northwest  28923.13692\n",
       "10   25    male  26.220         0     no  northeast   2721.32080\n",
       "11   62  female  26.290         0    yes  southeast  27808.72510\n",
       "12   23    male  34.400         0     no  southwest   1826.84300\n",
       "13   56  female  39.820         0     no  southeast  11090.71780\n",
       "14   27    male  42.130         0    yes  southeast  39611.75770\n",
       "15   19    male  24.600         1     no  southwest   1837.23700\n",
       "16   52  female  30.780         1     no  northeast  10797.33620\n",
       "17   23    male  23.845         0     no  northeast   2395.17155\n",
       "18   56    male  40.300         0     no  southwest  10602.38500\n",
       "19   30    male  35.300         0    yes  southwest  36837.46700"
      ]
     },
     "execution_count": 3,
     "metadata": {},
     "output_type": "execute_result"
    }
   ],
   "source": [
    "df.head(20)"
   ]
  },
  {
   "cell_type": "code",
   "execution_count": 4,
   "id": "c57b7e30",
   "metadata": {
    "execution": {
     "iopub.execute_input": "2023-08-19T20:29:40.440052Z",
     "iopub.status.busy": "2023-08-19T20:29:40.439788Z",
     "iopub.status.idle": "2023-08-19T20:29:40.469350Z",
     "shell.execute_reply": "2023-08-19T20:29:40.467975Z"
    },
    "papermill": {
     "duration": 0.046271,
     "end_time": "2023-08-19T20:29:40.471559",
     "exception": false,
     "start_time": "2023-08-19T20:29:40.425288",
     "status": "completed"
    },
    "tags": []
   },
   "outputs": [
    {
     "name": "stdout",
     "output_type": "stream",
     "text": [
      "<class 'pandas.core.frame.DataFrame'>\n",
      "RangeIndex: 1338 entries, 0 to 1337\n",
      "Data columns (total 7 columns):\n",
      " #   Column    Non-Null Count  Dtype  \n",
      "---  ------    --------------  -----  \n",
      " 0   age       1338 non-null   int64  \n",
      " 1   sex       1338 non-null   object \n",
      " 2   bmi       1338 non-null   float64\n",
      " 3   children  1338 non-null   int64  \n",
      " 4   smoker    1338 non-null   object \n",
      " 5   region    1338 non-null   object \n",
      " 6   charges   1338 non-null   float64\n",
      "dtypes: float64(2), int64(2), object(3)\n",
      "memory usage: 73.3+ KB\n"
     ]
    }
   ],
   "source": [
    "df.info()"
   ]
  },
  {
   "cell_type": "code",
   "execution_count": 5,
   "id": "72664863",
   "metadata": {
    "execution": {
     "iopub.execute_input": "2023-08-19T20:29:40.498148Z",
     "iopub.status.busy": "2023-08-19T20:29:40.497878Z",
     "iopub.status.idle": "2023-08-19T20:29:40.521804Z",
     "shell.execute_reply": "2023-08-19T20:29:40.520701Z"
    },
    "papermill": {
     "duration": 0.040029,
     "end_time": "2023-08-19T20:29:40.524508",
     "exception": false,
     "start_time": "2023-08-19T20:29:40.484479",
     "status": "completed"
    },
    "tags": []
   },
   "outputs": [
    {
     "data": {
      "text/html": [
       "<div>\n",
       "<style scoped>\n",
       "    .dataframe tbody tr th:only-of-type {\n",
       "        vertical-align: middle;\n",
       "    }\n",
       "\n",
       "    .dataframe tbody tr th {\n",
       "        vertical-align: top;\n",
       "    }\n",
       "\n",
       "    .dataframe thead th {\n",
       "        text-align: right;\n",
       "    }\n",
       "</style>\n",
       "<table border=\"1\" class=\"dataframe\">\n",
       "  <thead>\n",
       "    <tr style=\"text-align: right;\">\n",
       "      <th></th>\n",
       "      <th>age</th>\n",
       "      <th>bmi</th>\n",
       "      <th>children</th>\n",
       "      <th>charges</th>\n",
       "    </tr>\n",
       "  </thead>\n",
       "  <tbody>\n",
       "    <tr>\n",
       "      <th>count</th>\n",
       "      <td>1338.000000</td>\n",
       "      <td>1338.000000</td>\n",
       "      <td>1338.000000</td>\n",
       "      <td>1338.000000</td>\n",
       "    </tr>\n",
       "    <tr>\n",
       "      <th>mean</th>\n",
       "      <td>39.207025</td>\n",
       "      <td>30.663397</td>\n",
       "      <td>1.094918</td>\n",
       "      <td>13270.422265</td>\n",
       "    </tr>\n",
       "    <tr>\n",
       "      <th>std</th>\n",
       "      <td>14.049960</td>\n",
       "      <td>6.098187</td>\n",
       "      <td>1.205493</td>\n",
       "      <td>12110.011237</td>\n",
       "    </tr>\n",
       "    <tr>\n",
       "      <th>min</th>\n",
       "      <td>18.000000</td>\n",
       "      <td>15.960000</td>\n",
       "      <td>0.000000</td>\n",
       "      <td>1121.873900</td>\n",
       "    </tr>\n",
       "    <tr>\n",
       "      <th>25%</th>\n",
       "      <td>27.000000</td>\n",
       "      <td>26.296250</td>\n",
       "      <td>0.000000</td>\n",
       "      <td>4740.287150</td>\n",
       "    </tr>\n",
       "    <tr>\n",
       "      <th>50%</th>\n",
       "      <td>39.000000</td>\n",
       "      <td>30.400000</td>\n",
       "      <td>1.000000</td>\n",
       "      <td>9382.033000</td>\n",
       "    </tr>\n",
       "    <tr>\n",
       "      <th>75%</th>\n",
       "      <td>51.000000</td>\n",
       "      <td>34.693750</td>\n",
       "      <td>2.000000</td>\n",
       "      <td>16639.912515</td>\n",
       "    </tr>\n",
       "    <tr>\n",
       "      <th>max</th>\n",
       "      <td>64.000000</td>\n",
       "      <td>53.130000</td>\n",
       "      <td>5.000000</td>\n",
       "      <td>63770.428010</td>\n",
       "    </tr>\n",
       "  </tbody>\n",
       "</table>\n",
       "</div>"
      ],
      "text/plain": [
       "               age          bmi     children       charges\n",
       "count  1338.000000  1338.000000  1338.000000   1338.000000\n",
       "mean     39.207025    30.663397     1.094918  13270.422265\n",
       "std      14.049960     6.098187     1.205493  12110.011237\n",
       "min      18.000000    15.960000     0.000000   1121.873900\n",
       "25%      27.000000    26.296250     0.000000   4740.287150\n",
       "50%      39.000000    30.400000     1.000000   9382.033000\n",
       "75%      51.000000    34.693750     2.000000  16639.912515\n",
       "max      64.000000    53.130000     5.000000  63770.428010"
      ]
     },
     "execution_count": 5,
     "metadata": {},
     "output_type": "execute_result"
    }
   ],
   "source": [
    "df.describe()"
   ]
  },
  {
   "cell_type": "code",
   "execution_count": 6,
   "id": "8c6cfde0",
   "metadata": {
    "execution": {
     "iopub.execute_input": "2023-08-19T20:29:40.553125Z",
     "iopub.status.busy": "2023-08-19T20:29:40.552848Z",
     "iopub.status.idle": "2023-08-19T20:29:40.575633Z",
     "shell.execute_reply": "2023-08-19T20:29:40.574479Z"
    },
    "papermill": {
     "duration": 0.039824,
     "end_time": "2023-08-19T20:29:40.578387",
     "exception": false,
     "start_time": "2023-08-19T20:29:40.538563",
     "status": "completed"
    },
    "tags": []
   },
   "outputs": [
    {
     "data": {
      "text/html": [
       "<div>\n",
       "<style scoped>\n",
       "    .dataframe tbody tr th:only-of-type {\n",
       "        vertical-align: middle;\n",
       "    }\n",
       "\n",
       "    .dataframe tbody tr th {\n",
       "        vertical-align: top;\n",
       "    }\n",
       "\n",
       "    .dataframe thead th {\n",
       "        text-align: right;\n",
       "    }\n",
       "</style>\n",
       "<table border=\"1\" class=\"dataframe\">\n",
       "  <thead>\n",
       "    <tr style=\"text-align: right;\">\n",
       "      <th></th>\n",
       "      <th>age</th>\n",
       "      <th>bmi</th>\n",
       "      <th>children</th>\n",
       "      <th>charges</th>\n",
       "    </tr>\n",
       "  </thead>\n",
       "  <tbody>\n",
       "    <tr>\n",
       "      <th>count</th>\n",
       "      <td>1338.000000</td>\n",
       "      <td>1338.000000</td>\n",
       "      <td>1338.000000</td>\n",
       "      <td>1338.000000</td>\n",
       "    </tr>\n",
       "    <tr>\n",
       "      <th>mean</th>\n",
       "      <td>39.207025</td>\n",
       "      <td>30.663397</td>\n",
       "      <td>1.094918</td>\n",
       "      <td>13270.422265</td>\n",
       "    </tr>\n",
       "    <tr>\n",
       "      <th>std</th>\n",
       "      <td>14.049960</td>\n",
       "      <td>6.098187</td>\n",
       "      <td>1.205493</td>\n",
       "      <td>12110.011237</td>\n",
       "    </tr>\n",
       "    <tr>\n",
       "      <th>min</th>\n",
       "      <td>18.000000</td>\n",
       "      <td>15.960000</td>\n",
       "      <td>0.000000</td>\n",
       "      <td>1121.873900</td>\n",
       "    </tr>\n",
       "    <tr>\n",
       "      <th>25%</th>\n",
       "      <td>27.000000</td>\n",
       "      <td>26.296250</td>\n",
       "      <td>0.000000</td>\n",
       "      <td>4740.287150</td>\n",
       "    </tr>\n",
       "    <tr>\n",
       "      <th>50%</th>\n",
       "      <td>39.000000</td>\n",
       "      <td>30.400000</td>\n",
       "      <td>1.000000</td>\n",
       "      <td>9382.033000</td>\n",
       "    </tr>\n",
       "    <tr>\n",
       "      <th>75%</th>\n",
       "      <td>51.000000</td>\n",
       "      <td>34.693750</td>\n",
       "      <td>2.000000</td>\n",
       "      <td>16639.912515</td>\n",
       "    </tr>\n",
       "    <tr>\n",
       "      <th>max</th>\n",
       "      <td>64.000000</td>\n",
       "      <td>53.130000</td>\n",
       "      <td>5.000000</td>\n",
       "      <td>63770.428010</td>\n",
       "    </tr>\n",
       "  </tbody>\n",
       "</table>\n",
       "</div>"
      ],
      "text/plain": [
       "               age          bmi     children       charges\n",
       "count  1338.000000  1338.000000  1338.000000   1338.000000\n",
       "mean     39.207025    30.663397     1.094918  13270.422265\n",
       "std      14.049960     6.098187     1.205493  12110.011237\n",
       "min      18.000000    15.960000     0.000000   1121.873900\n",
       "25%      27.000000    26.296250     0.000000   4740.287150\n",
       "50%      39.000000    30.400000     1.000000   9382.033000\n",
       "75%      51.000000    34.693750     2.000000  16639.912515\n",
       "max      64.000000    53.130000     5.000000  63770.428010"
      ]
     },
     "execution_count": 6,
     "metadata": {},
     "output_type": "execute_result"
    }
   ],
   "source": [
    "df.describe(include=np.number)"
   ]
  },
  {
   "cell_type": "code",
   "execution_count": 7,
   "id": "e7059416",
   "metadata": {
    "execution": {
     "iopub.execute_input": "2023-08-19T20:29:40.606542Z",
     "iopub.status.busy": "2023-08-19T20:29:40.606262Z",
     "iopub.status.idle": "2023-08-19T20:29:40.615411Z",
     "shell.execute_reply": "2023-08-19T20:29:40.614473Z"
    },
    "papermill": {
     "duration": 0.024631,
     "end_time": "2023-08-19T20:29:40.617395",
     "exception": false,
     "start_time": "2023-08-19T20:29:40.592764",
     "status": "completed"
    },
    "tags": []
   },
   "outputs": [
    {
     "data": {
      "text/plain": [
       "age         0\n",
       "sex         0\n",
       "bmi         0\n",
       "children    0\n",
       "smoker      0\n",
       "region      0\n",
       "charges     0\n",
       "dtype: int64"
      ]
     },
     "execution_count": 7,
     "metadata": {},
     "output_type": "execute_result"
    }
   ],
   "source": [
    "df.isnull().sum()"
   ]
  },
  {
   "cell_type": "code",
   "execution_count": 8,
   "id": "1e5745ac",
   "metadata": {
    "execution": {
     "iopub.execute_input": "2023-08-19T20:29:40.644660Z",
     "iopub.status.busy": "2023-08-19T20:29:40.644346Z",
     "iopub.status.idle": "2023-08-19T20:29:42.509193Z",
     "shell.execute_reply": "2023-08-19T20:29:42.507885Z"
    },
    "papermill": {
     "duration": 1.881683,
     "end_time": "2023-08-19T20:29:42.511974",
     "exception": false,
     "start_time": "2023-08-19T20:29:40.630291",
     "status": "completed"
    },
    "tags": []
   },
   "outputs": [
    {
     "name": "stderr",
     "output_type": "stream",
     "text": [
      "/opt/conda/lib/python3.10/site-packages/scipy/__init__.py:146: UserWarning: A NumPy version >=1.16.5 and <1.23.0 is required for this version of SciPy (detected version 1.23.5\n",
      "  warnings.warn(f\"A NumPy version >={np_minversion} and <{np_maxversion}\"\n"
     ]
    }
   ],
   "source": [
    "import seaborn as sns"
   ]
  },
  {
   "cell_type": "code",
   "execution_count": 9,
   "id": "4e2e0961",
   "metadata": {
    "execution": {
     "iopub.execute_input": "2023-08-19T20:29:42.541709Z",
     "iopub.status.busy": "2023-08-19T20:29:42.540795Z",
     "iopub.status.idle": "2023-08-19T20:29:42.943789Z",
     "shell.execute_reply": "2023-08-19T20:29:42.942734Z"
    },
    "papermill": {
     "duration": 0.420713,
     "end_time": "2023-08-19T20:29:42.947143",
     "exception": false,
     "start_time": "2023-08-19T20:29:42.526430",
     "status": "completed"
    },
    "tags": []
   },
   "outputs": [
    {
     "name": "stderr",
     "output_type": "stream",
     "text": [
      "/opt/conda/lib/python3.10/site-packages/seaborn/axisgrid.py:118: UserWarning: The figure layout has changed to tight\n",
      "  self._figure.tight_layout(*args, **kwargs)\n"
     ]
    },
    {
     "data": {
      "text/plain": [
       "<seaborn.axisgrid.FacetGrid at 0x796601d31d50>"
      ]
     },
     "execution_count": 9,
     "metadata": {},
     "output_type": "execute_result"
    },
    {
     "data": {
      "image/png": "[encoded data removed]",
      "text/plain": [
       "<Figure size 500x500 with 1 Axes>"
      ]
     },
     "metadata": {},
     "output_type": "display_data"
    }
   ],
   "source": [
    "sns.displot(df['sex'])"
   ]
  },
  {
   "cell_type": "code",
   "execution_count": 10,
   "id": "3d964487",
   "metadata": {
    "execution": {
     "iopub.execute_input": "2023-08-19T20:29:42.978127Z",
     "iopub.status.busy": "2023-08-19T20:29:42.977226Z",
     "iopub.status.idle": "2023-08-19T20:29:43.222694Z",
     "shell.execute_reply": "2023-08-19T20:29:43.221676Z"
    },
    "papermill": {
     "duration": 0.262492,
     "end_time": "2023-08-19T20:29:43.225171",
     "exception": false,
     "start_time": "2023-08-19T20:29:42.962679",
     "status": "completed"
    },
    "tags": []
   },
   "outputs": [],
   "source": [
    "from sklearn.preprocessing import LabelEncoder"
   ]
  },
  {
   "cell_type": "code",
   "execution_count": 11,
   "id": "e56942b9",
   "metadata": {
    "execution": {
     "iopub.execute_input": "2023-08-19T20:29:43.254018Z",
     "iopub.status.busy": "2023-08-19T20:29:43.253107Z",
     "iopub.status.idle": "2023-08-19T20:29:43.260477Z",
     "shell.execute_reply": "2023-08-19T20:29:43.259455Z"
    },
    "papermill": {
     "duration": 0.023781,
     "end_time": "2023-08-19T20:29:43.262518",
     "exception": false,
     "start_time": "2023-08-19T20:29:43.238737",
     "status": "completed"
    },
    "tags": []
   },
   "outputs": [
    {
     "data": {
      "text/plain": [
       "array(['female', 'male'], dtype=object)"
      ]
     },
     "execution_count": 11,
     "metadata": {},
     "output_type": "execute_result"
    }
   ],
   "source": [
    "le = LabelEncoder()\n",
    "le.fit(df['sex'])\n",
    "le.classes_"
   ]
  },
  {
   "cell_type": "code",
   "execution_count": 12,
   "id": "9b4ea8ab",
   "metadata": {
    "execution": {
     "iopub.execute_input": "2023-08-19T20:29:43.291655Z",
     "iopub.status.busy": "2023-08-19T20:29:43.290870Z",
     "iopub.status.idle": "2023-08-19T20:29:43.296492Z",
     "shell.execute_reply": "2023-08-19T20:29:43.295475Z"
    },
    "papermill": {
     "duration": 0.022021,
     "end_time": "2023-08-19T20:29:43.298519",
     "exception": false,
     "start_time": "2023-08-19T20:29:43.276498",
     "status": "completed"
    },
    "tags": []
   },
   "outputs": [],
   "source": [
    "df['sex']=le.transform(df['sex'])\n",
    "\n"
   ]
  },
  {
   "cell_type": "code",
   "execution_count": 13,
   "id": "3786a1ed",
   "metadata": {
    "execution": {
     "iopub.execute_input": "2023-08-19T20:29:43.328867Z",
     "iopub.status.busy": "2023-08-19T20:29:43.328032Z",
     "iopub.status.idle": "2023-08-19T20:29:43.334194Z",
     "shell.execute_reply": "2023-08-19T20:29:43.333259Z"
    },
    "papermill": {
     "duration": 0.023608,
     "end_time": "2023-08-19T20:29:43.336355",
     "exception": false,
     "start_time": "2023-08-19T20:29:43.312747",
     "status": "completed"
    },
    "tags": []
   },
   "outputs": [],
   "source": [
    "le.fit(df['smoker'])\n",
    "df['smoker'] = le.transform(df['smoker'])"
   ]
  },
  {
   "cell_type": "code",
   "execution_count": 14,
   "id": "c392d3a7",
   "metadata": {
    "execution": {
     "iopub.execute_input": "2023-08-19T20:29:43.366237Z",
     "iopub.status.busy": "2023-08-19T20:29:43.365370Z",
     "iopub.status.idle": "2023-08-19T20:29:43.378466Z",
     "shell.execute_reply": "2023-08-19T20:29:43.376786Z"
    },
    "papermill": {
     "duration": 0.030839,
     "end_time": "2023-08-19T20:29:43.380970",
     "exception": false,
     "start_time": "2023-08-19T20:29:43.350131",
     "status": "completed"
    },
    "tags": []
   },
   "outputs": [
    {
     "name": "stdout",
     "output_type": "stream",
     "text": [
      "<class 'pandas.core.frame.DataFrame'>\n",
      "RangeIndex: 1338 entries, 0 to 1337\n",
      "Data columns (total 7 columns):\n",
      " #   Column    Non-Null Count  Dtype  \n",
      "---  ------    --------------  -----  \n",
      " 0   age       1338 non-null   int64  \n",
      " 1   sex       1338 non-null   int64  \n",
      " 2   bmi       1338 non-null   float64\n",
      " 3   children  1338 non-null   int64  \n",
      " 4   smoker    1338 non-null   int64  \n",
      " 5   region    1338 non-null   object \n",
      " 6   charges   1338 non-null   float64\n",
      "dtypes: float64(2), int64(4), object(1)\n",
      "memory usage: 73.3+ KB\n"
     ]
    }
   ],
   "source": [
    "df.info()"
   ]
  },
  {
   "cell_type": "code",
   "execution_count": 15,
   "id": "bb1ada34",
   "metadata": {
    "execution": {
     "iopub.execute_input": "2023-08-19T20:29:43.411613Z",
     "iopub.status.busy": "2023-08-19T20:29:43.411306Z",
     "iopub.status.idle": "2023-08-19T20:29:43.803074Z",
     "shell.execute_reply": "2023-08-19T20:29:43.802112Z"
    },
    "papermill": {
     "duration": 0.409201,
     "end_time": "2023-08-19T20:29:43.805297",
     "exception": false,
     "start_time": "2023-08-19T20:29:43.396096",
     "status": "completed"
    },
    "tags": []
   },
   "outputs": [
    {
     "name": "stderr",
     "output_type": "stream",
     "text": [
      "/opt/conda/lib/python3.10/site-packages/seaborn/axisgrid.py:118: UserWarning: The figure layout has changed to tight\n",
      "  self._figure.tight_layout(*args, **kwargs)\n"
     ]
    },
    {
     "data": {
      "text/plain": [
       "array(['southwest', 'southeast', 'southeast', ..., 'southeast',\n",
       "       'southwest', 'northwest'], dtype=object)"
      ]
     },
     "execution_count": 15,
     "metadata": {},
     "output_type": "execute_result"
    },
    {
     "data": {
      "image/png": "[encoded data removed]",
      "text/plain": [
       "<Figure size 500x500 with 1 Axes>"
      ]
     },
     "metadata": {},
     "output_type": "display_data"
    }
   ],
   "source": [
    "sns.displot(df['region'])\n",
    "df['region'].values"
   ]
  },
  {
   "cell_type": "code",
   "execution_count": 16,
   "id": "d3870059",
   "metadata": {
    "execution": {
     "iopub.execute_input": "2023-08-19T20:29:43.836061Z",
     "iopub.status.busy": "2023-08-19T20:29:43.835765Z",
     "iopub.status.idle": "2023-08-19T20:29:43.841262Z",
     "shell.execute_reply": "2023-08-19T20:29:43.840374Z"
    },
    "papermill": {
     "duration": 0.023187,
     "end_time": "2023-08-19T20:29:43.843250",
     "exception": false,
     "start_time": "2023-08-19T20:29:43.820063",
     "status": "completed"
    },
    "tags": []
   },
   "outputs": [],
   "source": [
    "le.fit(df['region'])\n",
    "df['region']=le.transform(df['region'])"
   ]
  },
  {
   "cell_type": "code",
   "execution_count": 17,
   "id": "6b97c11e",
   "metadata": {
    "execution": {
     "iopub.execute_input": "2023-08-19T20:29:43.873455Z",
     "iopub.status.busy": "2023-08-19T20:29:43.872835Z",
     "iopub.status.idle": "2023-08-19T20:29:43.883670Z",
     "shell.execute_reply": "2023-08-19T20:29:43.882664Z"
    },
    "papermill": {
     "duration": 0.028424,
     "end_time": "2023-08-19T20:29:43.885788",
     "exception": false,
     "start_time": "2023-08-19T20:29:43.857364",
     "status": "completed"
    },
    "tags": []
   },
   "outputs": [
    {
     "name": "stdout",
     "output_type": "stream",
     "text": [
      "<class 'pandas.core.frame.DataFrame'>\n",
      "RangeIndex: 1338 entries, 0 to 1337\n",
      "Data columns (total 7 columns):\n",
      " #   Column    Non-Null Count  Dtype  \n",
      "---  ------    --------------  -----  \n",
      " 0   age       1338 non-null   int64  \n",
      " 1   sex       1338 non-null   int64  \n",
      " 2   bmi       1338 non-null   float64\n",
      " 3   children  1338 non-null   int64  \n",
      " 4   smoker    1338 non-null   int64  \n",
      " 5   region    1338 non-null   int64  \n",
      " 6   charges   1338 non-null   float64\n",
      "dtypes: float64(2), int64(5)\n",
      "memory usage: 73.3 KB\n"
     ]
    }
   ],
   "source": [
    "df.info()"
   ]
  },
  {
   "cell_type": "code",
   "execution_count": 18,
   "id": "f84f77f2",
   "metadata": {
    "execution": {
     "iopub.execute_input": "2023-08-19T20:29:43.915797Z",
     "iopub.status.busy": "2023-08-19T20:29:43.915243Z",
     "iopub.status.idle": "2023-08-19T20:29:43.924383Z",
     "shell.execute_reply": "2023-08-19T20:29:43.923294Z"
    },
    "papermill": {
     "duration": 0.026183,
     "end_time": "2023-08-19T20:29:43.926649",
     "exception": false,
     "start_time": "2023-08-19T20:29:43.900466",
     "status": "completed"
    },
    "tags": []
   },
   "outputs": [
    {
     "data": {
      "text/plain": [
       "age         0.299008\n",
       "sex         0.057292\n",
       "bmi         0.198341\n",
       "children    0.067998\n",
       "smoker      0.787251\n",
       "region     -0.006208\n",
       "charges     1.000000\n",
       "Name: charges, dtype: float64"
      ]
     },
     "execution_count": 18,
     "metadata": {},
     "output_type": "execute_result"
    }
   ],
   "source": [
    "df.corr()['charges']"
   ]
  },
  {
   "cell_type": "code",
   "execution_count": 19,
   "id": "c9782df1",
   "metadata": {
    "execution": {
     "iopub.execute_input": "2023-08-19T20:29:43.957791Z",
     "iopub.status.busy": "2023-08-19T20:29:43.957311Z",
     "iopub.status.idle": "2023-08-19T20:29:43.961770Z",
     "shell.execute_reply": "2023-08-19T20:29:43.960840Z"
    },
    "papermill": {
     "duration": 0.021708,
     "end_time": "2023-08-19T20:29:43.963824",
     "exception": false,
     "start_time": "2023-08-19T20:29:43.942116",
     "status": "completed"
    },
    "tags": []
   },
   "outputs": [],
   "source": [
    "X = df.iloc[:,0:6]"
   ]
  },
  {
   "cell_type": "code",
   "execution_count": 20,
   "id": "8b73dbfd",
   "metadata": {
    "execution": {
     "iopub.execute_input": "2023-08-19T20:29:43.993663Z",
     "iopub.status.busy": "2023-08-19T20:29:43.993358Z",
     "iopub.status.idle": "2023-08-19T20:29:44.008328Z",
     "shell.execute_reply": "2023-08-19T20:29:44.007213Z"
    },
    "papermill": {
     "duration": 0.032561,
     "end_time": "2023-08-19T20:29:44.010613",
     "exception": false,
     "start_time": "2023-08-19T20:29:43.978052",
     "status": "completed"
    },
    "tags": []
   },
   "outputs": [
    {
     "data": {
      "text/html": [
       "<div>\n",
       "<style scoped>\n",
       "    .dataframe tbody tr th:only-of-type {\n",
       "        vertical-align: middle;\n",
       "    }\n",
       "\n",
       "    .dataframe tbody tr th {\n",
       "        vertical-align: top;\n",
       "    }\n",
       "\n",
       "    .dataframe thead th {\n",
       "        text-align: right;\n",
       "    }\n",
       "</style>\n",
       "<table border=\"1\" class=\"dataframe\">\n",
       "  <thead>\n",
       "    <tr style=\"text-align: right;\">\n",
       "      <th></th>\n",
       "      <th>age</th>\n",
       "      <th>sex</th>\n",
       "      <th>bmi</th>\n",
       "      <th>children</th>\n",
       "      <th>smoker</th>\n",
       "      <th>region</th>\n",
       "    </tr>\n",
       "  </thead>\n",
       "  <tbody>\n",
       "    <tr>\n",
       "      <th>0</th>\n",
       "      <td>19</td>\n",
       "      <td>0</td>\n",
       "      <td>27.900</td>\n",
       "      <td>0</td>\n",
       "      <td>1</td>\n",
       "      <td>3</td>\n",
       "    </tr>\n",
       "    <tr>\n",
       "      <th>1</th>\n",
       "      <td>18</td>\n",
       "      <td>1</td>\n",
       "      <td>33.770</td>\n",
       "      <td>1</td>\n",
       "      <td>0</td>\n",
       "      <td>2</td>\n",
       "    </tr>\n",
       "    <tr>\n",
       "      <th>2</th>\n",
       "      <td>28</td>\n",
       "      <td>1</td>\n",
       "      <td>33.000</td>\n",
       "      <td>3</td>\n",
       "      <td>0</td>\n",
       "      <td>2</td>\n",
       "    </tr>\n",
       "    <tr>\n",
       "      <th>3</th>\n",
       "      <td>33</td>\n",
       "      <td>1</td>\n",
       "      <td>22.705</td>\n",
       "      <td>0</td>\n",
       "      <td>0</td>\n",
       "      <td>1</td>\n",
       "    </tr>\n",
       "    <tr>\n",
       "      <th>4</th>\n",
       "      <td>32</td>\n",
       "      <td>1</td>\n",
       "      <td>28.880</td>\n",
       "      <td>0</td>\n",
       "      <td>0</td>\n",
       "      <td>1</td>\n",
       "    </tr>\n",
       "    <tr>\n",
       "      <th>...</th>\n",
       "      <td>...</td>\n",
       "      <td>...</td>\n",
       "      <td>...</td>\n",
       "      <td>...</td>\n",
       "      <td>...</td>\n",
       "      <td>...</td>\n",
       "    </tr>\n",
       "    <tr>\n",
       "      <th>1333</th>\n",
       "      <td>50</td>\n",
       "      <td>1</td>\n",
       "      <td>30.970</td>\n",
       "      <td>3</td>\n",
       "      <td>0</td>\n",
       "      <td>1</td>\n",
       "    </tr>\n",
       "    <tr>\n",
       "      <th>1334</th>\n",
       "      <td>18</td>\n",
       "      <td>0</td>\n",
       "      <td>31.920</td>\n",
       "      <td>0</td>\n",
       "      <td>0</td>\n",
       "      <td>0</td>\n",
       "    </tr>\n",
       "    <tr>\n",
       "      <th>1335</th>\n",
       "      <td>18</td>\n",
       "      <td>0</td>\n",
       "      <td>36.850</td>\n",
       "      <td>0</td>\n",
       "      <td>0</td>\n",
       "      <td>2</td>\n",
       "    </tr>\n",
       "    <tr>\n",
       "      <th>1336</th>\n",
       "      <td>21</td>\n",
       "      <td>0</td>\n",
       "      <td>25.800</td>\n",
       "      <td>0</td>\n",
       "      <td>0</td>\n",
       "      <td>3</td>\n",
       "    </tr>\n",
       "    <tr>\n",
       "      <th>1337</th>\n",
       "      <td>61</td>\n",
       "      <td>0</td>\n",
       "      <td>29.070</td>\n",
       "      <td>0</td>\n",
       "      <td>1</td>\n",
       "      <td>1</td>\n",
       "    </tr>\n",
       "  </tbody>\n",
       "</table>\n",
       "<p>1338 rows × 6 columns</p>\n",
       "</div>"
      ],
      "text/plain": [
       "      age  sex     bmi  children  smoker  region\n",
       "0      19    0  27.900         0       1       3\n",
       "1      18    1  33.770         1       0       2\n",
       "2      28    1  33.000         3       0       2\n",
       "3      33    1  22.705         0       0       1\n",
       "4      32    1  28.880         0       0       1\n",
       "...   ...  ...     ...       ...     ...     ...\n",
       "1333   50    1  30.970         3       0       1\n",
       "1334   18    0  31.920         0       0       0\n",
       "1335   18    0  36.850         0       0       2\n",
       "1336   21    0  25.800         0       0       3\n",
       "1337   61    0  29.070         0       1       1\n",
       "\n",
       "[1338 rows x 6 columns]"
      ]
     },
     "execution_count": 20,
     "metadata": {},
     "output_type": "execute_result"
    }
   ],
   "source": [
    "X"
   ]
  },
  {
   "cell_type": "code",
   "execution_count": 21,
   "id": "49422906",
   "metadata": {
    "execution": {
     "iopub.execute_input": "2023-08-19T20:29:44.043506Z",
     "iopub.status.busy": "2023-08-19T20:29:44.042734Z",
     "iopub.status.idle": "2023-08-19T20:29:44.047432Z",
     "shell.execute_reply": "2023-08-19T20:29:44.046550Z"
    },
    "papermill": {
     "duration": 0.022318,
     "end_time": "2023-08-19T20:29:44.049475",
     "exception": false,
     "start_time": "2023-08-19T20:29:44.027157",
     "status": "completed"
    },
    "tags": []
   },
   "outputs": [],
   "source": [
    "Y=df.iloc[:,-1]"
   ]
  },
  {
   "cell_type": "code",
   "execution_count": 22,
   "id": "40fdcc53",
   "metadata": {
    "execution": {
     "iopub.execute_input": "2023-08-19T20:29:44.081156Z",
     "iopub.status.busy": "2023-08-19T20:29:44.079614Z",
     "iopub.status.idle": "2023-08-19T20:29:44.087740Z",
     "shell.execute_reply": "2023-08-19T20:29:44.086670Z"
    },
    "papermill": {
     "duration": 0.02623,
     "end_time": "2023-08-19T20:29:44.090184",
     "exception": false,
     "start_time": "2023-08-19T20:29:44.063954",
     "status": "completed"
    },
    "tags": []
   },
   "outputs": [
    {
     "data": {
      "text/plain": [
       "0       16884.92400\n",
       "1        1725.55230\n",
       "2        4449.46200\n",
       "3       21984.47061\n",
       "4        3866.85520\n",
       "           ...     \n",
       "1333    10600.54830\n",
       "1334     2205.98080\n",
       "1335     1629.83350\n",
       "1336     2007.94500\n",
       "1337    29141.36030\n",
       "Name: charges, Length: 1338, dtype: float64"
      ]
     },
     "execution_count": 22,
     "metadata": {},
     "output_type": "execute_result"
    }
   ],
   "source": [
    "Y"
   ]
  },
  {
   "cell_type": "code",
   "execution_count": 23,
   "id": "d9111e2d",
   "metadata": {
    "execution": {
     "iopub.execute_input": "2023-08-19T20:29:44.128506Z",
     "iopub.status.busy": "2023-08-19T20:29:44.126854Z",
     "iopub.status.idle": "2023-08-19T20:29:44.300313Z",
     "shell.execute_reply": "2023-08-19T20:29:44.299380Z"
    },
    "papermill": {
     "duration": 0.19252,
     "end_time": "2023-08-19T20:29:44.302564",
     "exception": false,
     "start_time": "2023-08-19T20:29:44.110044",
     "status": "completed"
    },
    "tags": []
   },
   "outputs": [],
   "source": [
    "from sklearn.model_selection import train_test_split\n",
    "X_train,X_test,Y_train,Y_test = train_test_split(X,Y,test_size=0.2,random_state=2)"
   ]
  },
  {
   "cell_type": "code",
   "execution_count": 24,
   "id": "e01d0f8d",
   "metadata": {
    "execution": {
     "iopub.execute_input": "2023-08-19T20:29:44.336243Z",
     "iopub.status.busy": "2023-08-19T20:29:44.335877Z",
     "iopub.status.idle": "2023-08-19T20:29:44.350693Z",
     "shell.execute_reply": "2023-08-19T20:29:44.349746Z"
    },
    "papermill": {
     "duration": 0.033057,
     "end_time": "2023-08-19T20:29:44.352961",
     "exception": false,
     "start_time": "2023-08-19T20:29:44.319904",
     "status": "completed"
    },
    "tags": []
   },
   "outputs": [
    {
     "data": {
      "text/html": [
       "<div>\n",
       "<style scoped>\n",
       "    .dataframe tbody tr th:only-of-type {\n",
       "        vertical-align: middle;\n",
       "    }\n",
       "\n",
       "    .dataframe tbody tr th {\n",
       "        vertical-align: top;\n",
       "    }\n",
       "\n",
       "    .dataframe thead th {\n",
       "        text-align: right;\n",
       "    }\n",
       "</style>\n",
       "<table border=\"1\" class=\"dataframe\">\n",
       "  <thead>\n",
       "    <tr style=\"text-align: right;\">\n",
       "      <th></th>\n",
       "      <th>age</th>\n",
       "      <th>sex</th>\n",
       "      <th>bmi</th>\n",
       "      <th>children</th>\n",
       "      <th>smoker</th>\n",
       "      <th>region</th>\n",
       "    </tr>\n",
       "  </thead>\n",
       "  <tbody>\n",
       "    <tr>\n",
       "      <th>882</th>\n",
       "      <td>21</td>\n",
       "      <td>0</td>\n",
       "      <td>22.135</td>\n",
       "      <td>0</td>\n",
       "      <td>0</td>\n",
       "      <td>0</td>\n",
       "    </tr>\n",
       "    <tr>\n",
       "      <th>505</th>\n",
       "      <td>37</td>\n",
       "      <td>1</td>\n",
       "      <td>30.875</td>\n",
       "      <td>3</td>\n",
       "      <td>0</td>\n",
       "      <td>1</td>\n",
       "    </tr>\n",
       "    <tr>\n",
       "      <th>798</th>\n",
       "      <td>58</td>\n",
       "      <td>0</td>\n",
       "      <td>33.100</td>\n",
       "      <td>0</td>\n",
       "      <td>0</td>\n",
       "      <td>3</td>\n",
       "    </tr>\n",
       "    <tr>\n",
       "      <th>792</th>\n",
       "      <td>22</td>\n",
       "      <td>0</td>\n",
       "      <td>23.180</td>\n",
       "      <td>0</td>\n",
       "      <td>0</td>\n",
       "      <td>0</td>\n",
       "    </tr>\n",
       "    <tr>\n",
       "      <th>201</th>\n",
       "      <td>48</td>\n",
       "      <td>0</td>\n",
       "      <td>32.230</td>\n",
       "      <td>1</td>\n",
       "      <td>0</td>\n",
       "      <td>2</td>\n",
       "    </tr>\n",
       "    <tr>\n",
       "      <th>...</th>\n",
       "      <td>...</td>\n",
       "      <td>...</td>\n",
       "      <td>...</td>\n",
       "      <td>...</td>\n",
       "      <td>...</td>\n",
       "      <td>...</td>\n",
       "    </tr>\n",
       "    <tr>\n",
       "      <th>466</th>\n",
       "      <td>60</td>\n",
       "      <td>0</td>\n",
       "      <td>28.700</td>\n",
       "      <td>1</td>\n",
       "      <td>0</td>\n",
       "      <td>3</td>\n",
       "    </tr>\n",
       "    <tr>\n",
       "      <th>299</th>\n",
       "      <td>48</td>\n",
       "      <td>0</td>\n",
       "      <td>28.880</td>\n",
       "      <td>1</td>\n",
       "      <td>0</td>\n",
       "      <td>1</td>\n",
       "    </tr>\n",
       "    <tr>\n",
       "      <th>493</th>\n",
       "      <td>61</td>\n",
       "      <td>1</td>\n",
       "      <td>43.400</td>\n",
       "      <td>0</td>\n",
       "      <td>0</td>\n",
       "      <td>3</td>\n",
       "    </tr>\n",
       "    <tr>\n",
       "      <th>527</th>\n",
       "      <td>51</td>\n",
       "      <td>0</td>\n",
       "      <td>25.800</td>\n",
       "      <td>1</td>\n",
       "      <td>0</td>\n",
       "      <td>3</td>\n",
       "    </tr>\n",
       "    <tr>\n",
       "      <th>1192</th>\n",
       "      <td>58</td>\n",
       "      <td>0</td>\n",
       "      <td>32.395</td>\n",
       "      <td>1</td>\n",
       "      <td>0</td>\n",
       "      <td>0</td>\n",
       "    </tr>\n",
       "  </tbody>\n",
       "</table>\n",
       "<p>1070 rows × 6 columns</p>\n",
       "</div>"
      ],
      "text/plain": [
       "      age  sex     bmi  children  smoker  region\n",
       "882    21    0  22.135         0       0       0\n",
       "505    37    1  30.875         3       0       1\n",
       "798    58    0  33.100         0       0       3\n",
       "792    22    0  23.180         0       0       0\n",
       "201    48    0  32.230         1       0       2\n",
       "...   ...  ...     ...       ...     ...     ...\n",
       "466    60    0  28.700         1       0       3\n",
       "299    48    0  28.880         1       0       1\n",
       "493    61    1  43.400         0       0       3\n",
       "527    51    0  25.800         1       0       3\n",
       "1192   58    0  32.395         1       0       0\n",
       "\n",
       "[1070 rows x 6 columns]"
      ]
     },
     "execution_count": 24,
     "metadata": {},
     "output_type": "execute_result"
    }
   ],
   "source": [
    "X_train"
   ]
  },
  {
   "cell_type": "code",
   "execution_count": 25,
   "id": "5b4d3420",
   "metadata": {
    "execution": {
     "iopub.execute_input": "2023-08-19T20:29:44.390076Z",
     "iopub.status.busy": "2023-08-19T20:29:44.389114Z",
     "iopub.status.idle": "2023-08-19T20:29:44.404597Z",
     "shell.execute_reply": "2023-08-19T20:29:44.403448Z"
    },
    "papermill": {
     "duration": 0.036507,
     "end_time": "2023-08-19T20:29:44.407020",
     "exception": false,
     "start_time": "2023-08-19T20:29:44.370513",
     "status": "completed"
    },
    "tags": []
   },
   "outputs": [
    {
     "data": {
      "text/html": [
       "<div>\n",
       "<style scoped>\n",
       "    .dataframe tbody tr th:only-of-type {\n",
       "        vertical-align: middle;\n",
       "    }\n",
       "\n",
       "    .dataframe tbody tr th {\n",
       "        vertical-align: top;\n",
       "    }\n",
       "\n",
       "    .dataframe thead th {\n",
       "        text-align: right;\n",
       "    }\n",
       "</style>\n",
       "<table border=\"1\" class=\"dataframe\">\n",
       "  <thead>\n",
       "    <tr style=\"text-align: right;\">\n",
       "      <th></th>\n",
       "      <th>age</th>\n",
       "      <th>sex</th>\n",
       "      <th>bmi</th>\n",
       "      <th>children</th>\n",
       "      <th>smoker</th>\n",
       "      <th>region</th>\n",
       "    </tr>\n",
       "  </thead>\n",
       "  <tbody>\n",
       "    <tr>\n",
       "      <th>17</th>\n",
       "      <td>23</td>\n",
       "      <td>1</td>\n",
       "      <td>23.845</td>\n",
       "      <td>0</td>\n",
       "      <td>0</td>\n",
       "      <td>0</td>\n",
       "    </tr>\n",
       "    <tr>\n",
       "      <th>1091</th>\n",
       "      <td>55</td>\n",
       "      <td>0</td>\n",
       "      <td>29.830</td>\n",
       "      <td>0</td>\n",
       "      <td>0</td>\n",
       "      <td>0</td>\n",
       "    </tr>\n",
       "    <tr>\n",
       "      <th>273</th>\n",
       "      <td>50</td>\n",
       "      <td>1</td>\n",
       "      <td>27.455</td>\n",
       "      <td>1</td>\n",
       "      <td>0</td>\n",
       "      <td>0</td>\n",
       "    </tr>\n",
       "    <tr>\n",
       "      <th>270</th>\n",
       "      <td>18</td>\n",
       "      <td>1</td>\n",
       "      <td>29.370</td>\n",
       "      <td>1</td>\n",
       "      <td>0</td>\n",
       "      <td>2</td>\n",
       "    </tr>\n",
       "    <tr>\n",
       "      <th>874</th>\n",
       "      <td>44</td>\n",
       "      <td>1</td>\n",
       "      <td>21.850</td>\n",
       "      <td>3</td>\n",
       "      <td>0</td>\n",
       "      <td>0</td>\n",
       "    </tr>\n",
       "    <tr>\n",
       "      <th>...</th>\n",
       "      <td>...</td>\n",
       "      <td>...</td>\n",
       "      <td>...</td>\n",
       "      <td>...</td>\n",
       "      <td>...</td>\n",
       "      <td>...</td>\n",
       "    </tr>\n",
       "    <tr>\n",
       "      <th>232</th>\n",
       "      <td>19</td>\n",
       "      <td>0</td>\n",
       "      <td>17.800</td>\n",
       "      <td>0</td>\n",
       "      <td>0</td>\n",
       "      <td>3</td>\n",
       "    </tr>\n",
       "    <tr>\n",
       "      <th>323</th>\n",
       "      <td>57</td>\n",
       "      <td>1</td>\n",
       "      <td>40.945</td>\n",
       "      <td>0</td>\n",
       "      <td>0</td>\n",
       "      <td>0</td>\n",
       "    </tr>\n",
       "    <tr>\n",
       "      <th>1337</th>\n",
       "      <td>61</td>\n",
       "      <td>0</td>\n",
       "      <td>29.070</td>\n",
       "      <td>0</td>\n",
       "      <td>1</td>\n",
       "      <td>1</td>\n",
       "    </tr>\n",
       "    <tr>\n",
       "      <th>1066</th>\n",
       "      <td>48</td>\n",
       "      <td>1</td>\n",
       "      <td>37.290</td>\n",
       "      <td>2</td>\n",
       "      <td>0</td>\n",
       "      <td>2</td>\n",
       "    </tr>\n",
       "    <tr>\n",
       "      <th>966</th>\n",
       "      <td>51</td>\n",
       "      <td>1</td>\n",
       "      <td>24.795</td>\n",
       "      <td>2</td>\n",
       "      <td>1</td>\n",
       "      <td>1</td>\n",
       "    </tr>\n",
       "  </tbody>\n",
       "</table>\n",
       "<p>268 rows × 6 columns</p>\n",
       "</div>"
      ],
      "text/plain": [
       "      age  sex     bmi  children  smoker  region\n",
       "17     23    1  23.845         0       0       0\n",
       "1091   55    0  29.830         0       0       0\n",
       "273    50    1  27.455         1       0       0\n",
       "270    18    1  29.370         1       0       2\n",
       "874    44    1  21.850         3       0       0\n",
       "...   ...  ...     ...       ...     ...     ...\n",
       "232    19    0  17.800         0       0       3\n",
       "323    57    1  40.945         0       0       0\n",
       "1337   61    0  29.070         0       1       1\n",
       "1066   48    1  37.290         2       0       2\n",
       "966    51    1  24.795         2       1       1\n",
       "\n",
       "[268 rows x 6 columns]"
      ]
     },
     "execution_count": 25,
     "metadata": {},
     "output_type": "execute_result"
    }
   ],
   "source": [
    "X_test"
   ]
  },
  {
   "cell_type": "code",
   "execution_count": 26,
   "id": "3d4127d4",
   "metadata": {
    "execution": {
     "iopub.execute_input": "2023-08-19T20:29:44.444569Z",
     "iopub.status.busy": "2023-08-19T20:29:44.444239Z",
     "iopub.status.idle": "2023-08-19T20:29:44.452796Z",
     "shell.execute_reply": "2023-08-19T20:29:44.451665Z"
    },
    "papermill": {
     "duration": 0.03026,
     "end_time": "2023-08-19T20:29:44.455276",
     "exception": false,
     "start_time": "2023-08-19T20:29:44.425016",
     "status": "completed"
    },
    "tags": []
   },
   "outputs": [
    {
     "data": {
      "text/plain": [
       "882      2585.85065\n",
       "505      6796.86325\n",
       "798     11848.14100\n",
       "792      2731.91220\n",
       "201      8871.15170\n",
       "           ...     \n",
       "466     13224.69300\n",
       "299      9249.49520\n",
       "493     12574.04900\n",
       "527      9861.02500\n",
       "1192    13019.16105\n",
       "Name: charges, Length: 1070, dtype: float64"
      ]
     },
     "execution_count": 26,
     "metadata": {},
     "output_type": "execute_result"
    }
   ],
   "source": [
    "Y_train"
   ]
  },
  {
   "cell_type": "code",
   "execution_count": 27,
   "id": "e12cc3e3",
   "metadata": {
    "execution": {
     "iopub.execute_input": "2023-08-19T20:29:44.494650Z",
     "iopub.status.busy": "2023-08-19T20:29:44.493823Z",
     "iopub.status.idle": "2023-08-19T20:29:44.502631Z",
     "shell.execute_reply": "2023-08-19T20:29:44.501386Z"
    },
    "papermill": {
     "duration": 0.030236,
     "end_time": "2023-08-19T20:29:44.505127",
     "exception": false,
     "start_time": "2023-08-19T20:29:44.474891",
     "status": "completed"
    },
    "tags": []
   },
   "outputs": [
    {
     "data": {
      "text/plain": [
       "17       2395.17155\n",
       "1091    11286.53870\n",
       "273      9617.66245\n",
       "270      1719.43630\n",
       "874      8891.13950\n",
       "           ...     \n",
       "232      1727.78500\n",
       "323     11566.30055\n",
       "1337    29141.36030\n",
       "1066     8978.18510\n",
       "966     23967.38305\n",
       "Name: charges, Length: 268, dtype: float64"
      ]
     },
     "execution_count": 27,
     "metadata": {},
     "output_type": "execute_result"
    }
   ],
   "source": [
    "Y_test"
   ]
  },
  {
   "cell_type": "code",
   "execution_count": 28,
   "id": "9a9bf445",
   "metadata": {
    "execution": {
     "iopub.execute_input": "2023-08-19T20:29:44.543506Z",
     "iopub.status.busy": "2023-08-19T20:29:44.542696Z",
     "iopub.status.idle": "2023-08-19T20:29:44.702403Z",
     "shell.execute_reply": "2023-08-19T20:29:44.701462Z"
    },
    "papermill": {
     "duration": 0.179639,
     "end_time": "2023-08-19T20:29:44.705099",
     "exception": false,
     "start_time": "2023-08-19T20:29:44.525460",
     "status": "completed"
    },
    "tags": []
   },
   "outputs": [],
   "source": [
    "from sklearn.linear_model import LinearRegression\n",
    "\n",
    "lr = LinearRegression()"
   ]
  },
  {
   "cell_type": "code",
   "execution_count": 29,
   "id": "a99271fc",
   "metadata": {
    "execution": {
     "iopub.execute_input": "2023-08-19T20:29:44.740960Z",
     "iopub.status.busy": "2023-08-19T20:29:44.740120Z",
     "iopub.status.idle": "2023-08-19T20:29:44.797054Z",
     "shell.execute_reply": "2023-08-19T20:29:44.796081Z"
    },
    "papermill": {
     "duration": 0.076404,
     "end_time": "2023-08-19T20:29:44.799264",
     "exception": false,
     "start_time": "2023-08-19T20:29:44.722860",
     "status": "completed"
    },
    "tags": []
   },
   "outputs": [
    {
     "data": {
      "text/html": [
       "<style>#sk-container-id-1 {color: black;background-color: white;}#sk-container-id-1 pre{padding: 0;}#sk-container-id-1 div.sk-toggleable {background-color: white;}#sk-container-id-1 label.sk-toggleable__label {cursor: pointer;display: block;width: 100%;margin-bottom: 0;padding: 0.3em;box-sizing: border-box;text-align: center;}#sk-container-id-1 label.sk-toggleable__label-arrow:before {content: \"▸\";float: left;margin-right: 0.25em;color: #696969;}#sk-container-id-1 label.sk-toggleable__label-arrow:hover:before {color: black;}#sk-container-id-1 div.sk-estimator:hover label.sk-toggleable__label-arrow:before {color: black;}#sk-container-id-1 div.sk-toggleable__content {max-height: 0;max-width: 0;overflow: hidden;text-align: left;background-color: #f0f8ff;}#sk-container-id-1 div.sk-toggleable__content pre {margin: 0.2em;color: black;border-radius: 0.25em;background-color: #f0f8ff;}#sk-container-id-1 input.sk-toggleable__control:checked~div.sk-toggleable__content {max-height: 200px;max-width: 100%;overflow: auto;}#sk-container-id-1 input.sk-toggleable__control:checked~label.sk-toggleable__label-arrow:before {content: \"▾\";}#sk-container-id-1 div.sk-estimator input.sk-toggleable__control:checked~label.sk-toggleable__label {background-color: #d4ebff;}#sk-container-id-1 div.sk-label input.sk-toggleable__control:checked~label.sk-toggleable__label {background-color: #d4ebff;}#sk-container-id-1 input.sk-hidden--visually {border: 0;clip: rect(1px 1px 1px 1px);clip: rect(1px, 1px, 1px, 1px);height: 1px;margin: -1px;overflow: hidden;padding: 0;position: absolute;width: 1px;}#sk-container-id-1 div.sk-estimator {font-family: monospace;background-color: #f0f8ff;border: 1px dotted black;border-radius: 0.25em;box-sizing: border-box;margin-bottom: 0.5em;}#sk-container-id-1 div.sk-estimator:hover {background-color: #d4ebff;}#sk-container-id-1 div.sk-parallel-item::after {content: \"\";width: 100%;border-bottom: 1px solid gray;flex-grow: 1;}#sk-container-id-1 div.sk-label:hover label.sk-toggleable__label {background-color: #d4ebff;}#sk-container-id-1 div.sk-serial::before {content: \"\";position: absolute;border-left: 1px solid gray;box-sizing: border-box;top: 0;bottom: 0;left: 50%;z-index: 0;}#sk-container-id-1 div.sk-serial {display: flex;flex-direction: column;align-items: center;background-color: white;padding-right: 0.2em;padding-left: 0.2em;position: relative;}#sk-container-id-1 div.sk-item {position: relative;z-index: 1;}#sk-container-id-1 div.sk-parallel {display: flex;align-items: stretch;justify-content: center;background-color: white;position: relative;}#sk-container-id-1 div.sk-item::before, #sk-container-id-1 div.sk-parallel-item::before {content: \"\";position: absolute;border-left: 1px solid gray;box-sizing: border-box;top: 0;bottom: 0;left: 50%;z-index: -1;}#sk-container-id-1 div.sk-parallel-item {display: flex;flex-direction: column;z-index: 1;position: relative;background-color: white;}#sk-container-id-1 div.sk-parallel-item:first-child::after {align-self: flex-end;width: 50%;}#sk-container-id-1 div.sk-parallel-item:last-child::after {align-self: flex-start;width: 50%;}#sk-container-id-1 div.sk-parallel-item:only-child::after {width: 0;}#sk-container-id-1 div.sk-dashed-wrapped {border: 1px dashed gray;margin: 0 0.4em 0.5em 0.4em;box-sizing: border-box;padding-bottom: 0.4em;background-color: white;}#sk-container-id-1 div.sk-label label {font-family: monospace;font-weight: bold;display: inline-block;line-height: 1.2em;}#sk-container-id-1 div.sk-label-container {text-align: center;}#sk-container-id-1 div.sk-container {/* jupyter's `normalize.less` sets `[hidden] { display: none; }` but bootstrap.min.css set `[hidden] { display: none !important; }` so we also need the `!important` here to be able to override the default hidden behavior on the sphinx rendered scikit-learn.org. See: https://github.com/scikit-learn/scikit-learn/issues/21755 */display: inline-block !important;position: relative;}#sk-container-id-1 div.sk-text-repr-fallback {display: none;}</style><div id=\"sk-container-id-1\" class=\"sk-top-container\"><div class=\"sk-text-repr-fallback\"><pre>LinearRegression()</pre><b>In a Jupyter environment, please rerun this cell to show the HTML representation or trust the notebook. <br />On GitHub, the HTML representation is unable to render, please try loading this page with nbviewer.org.</b></div><div class=\"sk-container\" hidden><div class=\"sk-item\"><div class=\"sk-estimator sk-toggleable\"><input class=\"sk-toggleable__control sk-hidden--visually\" id=\"sk-estimator-id-1\" type=\"checkbox\" checked><label for=\"sk-estimator-id-1\" class=\"sk-toggleable__label sk-toggleable__label-arrow\">LinearRegression</label><div class=\"sk-toggleable__content\"><pre>LinearRegression()</pre></div></div></div></div></div>"
      ],
      "text/plain": [
       "LinearRegression()"
      ]
     },
     "execution_count": 29,
     "metadata": {},
     "output_type": "execute_result"
    }
   ],
   "source": [
    "lr.fit(X_train,Y_train)"
   ]
  },
  {
   "cell_type": "code",
   "execution_count": 30,
   "id": "6b065cb3",
   "metadata": {
    "execution": {
     "iopub.execute_input": "2023-08-19T20:29:44.833454Z",
     "iopub.status.busy": "2023-08-19T20:29:44.832620Z",
     "iopub.status.idle": "2023-08-19T20:29:44.837294Z",
     "shell.execute_reply": "2023-08-19T20:29:44.836445Z"
    },
    "papermill": {
     "duration": 0.023565,
     "end_time": "2023-08-19T20:29:44.839277",
     "exception": false,
     "start_time": "2023-08-19T20:29:44.815712",
     "status": "completed"
    },
    "tags": []
   },
   "outputs": [],
   "source": [
    "from sklearn.preprocessing import StandardScaler\n",
    "from sklearn.metrics import r2_score,mean_absolute_error,mean_squared_error\n"
   ]
  },
  {
   "cell_type": "code",
   "execution_count": 31,
   "id": "7c5e0749",
   "metadata": {
    "execution": {
     "iopub.execute_input": "2023-08-19T20:29:44.872380Z",
     "iopub.status.busy": "2023-08-19T20:29:44.871642Z",
     "iopub.status.idle": "2023-08-19T20:29:44.881279Z",
     "shell.execute_reply": "2023-08-19T20:29:44.880443Z"
    },
    "papermill": {
     "duration": 0.028096,
     "end_time": "2023-08-19T20:29:44.883244",
     "exception": false,
     "start_time": "2023-08-19T20:29:44.855148",
     "status": "completed"
    },
    "tags": []
   },
   "outputs": [],
   "source": [
    "scaler = StandardScaler()\n",
    "scaler.fit(X_train)  \n",
    "scaled_x_train = scaler.transform(X_train)\n",
    "scaled_x_test = scaler.transform(X_test)"
   ]
  },
  {
   "cell_type": "code",
   "execution_count": 32,
   "id": "07ba1963",
   "metadata": {
    "execution": {
     "iopub.execute_input": "2023-08-19T20:29:44.916598Z",
     "iopub.status.busy": "2023-08-19T20:29:44.915804Z",
     "iopub.status.idle": "2023-08-19T20:29:44.924519Z",
     "shell.execute_reply": "2023-08-19T20:29:44.923549Z"
    },
    "papermill": {
     "duration": 0.027419,
     "end_time": "2023-08-19T20:29:44.926517",
     "exception": false,
     "start_time": "2023-08-19T20:29:44.899098",
     "status": "completed"
    },
    "tags": []
   },
   "outputs": [
    {
     "data": {
      "text/html": [
       "<style>#sk-container-id-2 {color: black;background-color: white;}#sk-container-id-2 pre{padding: 0;}#sk-container-id-2 div.sk-toggleable {background-color: white;}#sk-container-id-2 label.sk-toggleable__label {cursor: pointer;display: block;width: 100%;margin-bottom: 0;padding: 0.3em;box-sizing: border-box;text-align: center;}#sk-container-id-2 label.sk-toggleable__label-arrow:before {content: \"▸\";float: left;margin-right: 0.25em;color: #696969;}#sk-container-id-2 label.sk-toggleable__label-arrow:hover:before {color: black;}#sk-container-id-2 div.sk-estimator:hover label.sk-toggleable__label-arrow:before {color: black;}#sk-container-id-2 div.sk-toggleable__content {max-height: 0;max-width: 0;overflow: hidden;text-align: left;background-color: #f0f8ff;}#sk-container-id-2 div.sk-toggleable__content pre {margin: 0.2em;color: black;border-radius: 0.25em;background-color: #f0f8ff;}#sk-container-id-2 input.sk-toggleable__control:checked~div.sk-toggleable__content {max-height: 200px;max-width: 100%;overflow: auto;}#sk-container-id-2 input.sk-toggleable__control:checked~label.sk-toggleable__label-arrow:before {content: \"▾\";}#sk-container-id-2 div.sk-estimator input.sk-toggleable__control:checked~label.sk-toggleable__label {background-color: #d4ebff;}#sk-container-id-2 div.sk-label input.sk-toggleable__control:checked~label.sk-toggleable__label {background-color: #d4ebff;}#sk-container-id-2 input.sk-hidden--visually {border: 0;clip: rect(1px 1px 1px 1px);clip: rect(1px, 1px, 1px, 1px);height: 1px;margin: -1px;overflow: hidden;padding: 0;position: absolute;width: 1px;}#sk-container-id-2 div.sk-estimator {font-family: monospace;background-color: #f0f8ff;border: 1px dotted black;border-radius: 0.25em;box-sizing: border-box;margin-bottom: 0.5em;}#sk-container-id-2 div.sk-estimator:hover {background-color: #d4ebff;}#sk-container-id-2 div.sk-parallel-item::after {content: \"\";width: 100%;border-bottom: 1px solid gray;flex-grow: 1;}#sk-container-id-2 div.sk-label:hover label.sk-toggleable__label {background-color: #d4ebff;}#sk-container-id-2 div.sk-serial::before {content: \"\";position: absolute;border-left: 1px solid gray;box-sizing: border-box;top: 0;bottom: 0;left: 50%;z-index: 0;}#sk-container-id-2 div.sk-serial {display: flex;flex-direction: column;align-items: center;background-color: white;padding-right: 0.2em;padding-left: 0.2em;position: relative;}#sk-container-id-2 div.sk-item {position: relative;z-index: 1;}#sk-container-id-2 div.sk-parallel {display: flex;align-items: stretch;justify-content: center;background-color: white;position: relative;}#sk-container-id-2 div.sk-item::before, #sk-container-id-2 div.sk-parallel-item::before {content: \"\";position: absolute;border-left: 1px solid gray;box-sizing: border-box;top: 0;bottom: 0;left: 50%;z-index: -1;}#sk-container-id-2 div.sk-parallel-item {display: flex;flex-direction: column;z-index: 1;position: relative;background-color: white;}#sk-container-id-2 div.sk-parallel-item:first-child::after {align-self: flex-end;width: 50%;}#sk-container-id-2 div.sk-parallel-item:last-child::after {align-self: flex-start;width: 50%;}#sk-container-id-2 div.sk-parallel-item:only-child::after {width: 0;}#sk-container-id-2 div.sk-dashed-wrapped {border: 1px dashed gray;margin: 0 0.4em 0.5em 0.4em;box-sizing: border-box;padding-bottom: 0.4em;background-color: white;}#sk-container-id-2 div.sk-label label {font-family: monospace;font-weight: bold;display: inline-block;line-height: 1.2em;}#sk-container-id-2 div.sk-label-container {text-align: center;}#sk-container-id-2 div.sk-container {/* jupyter's `normalize.less` sets `[hidden] { display: none; }` but bootstrap.min.css set `[hidden] { display: none !important; }` so we also need the `!important` here to be able to override the default hidden behavior on the sphinx rendered scikit-learn.org. See: https://github.com/scikit-learn/scikit-learn/issues/21755 */display: inline-block !important;position: relative;}#sk-container-id-2 div.sk-text-repr-fallback {display: none;}</style><div id=\"sk-container-id-2\" class=\"sk-top-container\"><div class=\"sk-text-repr-fallback\"><pre>LinearRegression()</pre><b>In a Jupyter environment, please rerun this cell to show the HTML representation or trust the notebook. <br />On GitHub, the HTML representation is unable to render, please try loading this page with nbviewer.org.</b></div><div class=\"sk-container\" hidden><div class=\"sk-item\"><div class=\"sk-estimator sk-toggleable\"><input class=\"sk-toggleable__control sk-hidden--visually\" id=\"sk-estimator-id-2\" type=\"checkbox\" checked><label for=\"sk-estimator-id-2\" class=\"sk-toggleable__label sk-toggleable__label-arrow\">LinearRegression</label><div class=\"sk-toggleable__content\"><pre>LinearRegression()</pre></div></div></div></div></div>"
      ],
      "text/plain": [
       "LinearRegression()"
      ]
     },
     "execution_count": 32,
     "metadata": {},
     "output_type": "execute_result"
    }
   ],
   "source": [
    "lr.fit(scaled_x_train,Y_train)"
   ]
  },
  {
   "cell_type": "code",
   "execution_count": 33,
   "id": "1316ab4f",
   "metadata": {
    "execution": {
     "iopub.execute_input": "2023-08-19T20:29:44.959851Z",
     "iopub.status.busy": "2023-08-19T20:29:44.959583Z",
     "iopub.status.idle": "2023-08-19T20:29:44.963848Z",
     "shell.execute_reply": "2023-08-19T20:29:44.962960Z"
    },
    "papermill": {
     "duration": 0.023624,
     "end_time": "2023-08-19T20:29:44.965843",
     "exception": false,
     "start_time": "2023-08-19T20:29:44.942219",
     "status": "completed"
    },
    "tags": []
   },
   "outputs": [],
   "source": [
    "y_pred = lr.predict(scaled_x_test)"
   ]
  },
  {
   "cell_type": "code",
   "execution_count": 34,
   "id": "b3f7752c",
   "metadata": {
    "execution": {
     "iopub.execute_input": "2023-08-19T20:29:45.000738Z",
     "iopub.status.busy": "2023-08-19T20:29:44.999932Z",
     "iopub.status.idle": "2023-08-19T20:29:45.005367Z",
     "shell.execute_reply": "2023-08-19T20:29:45.004457Z"
    },
    "papermill": {
     "duration": 0.025417,
     "end_time": "2023-08-19T20:29:45.007453",
     "exception": false,
     "start_time": "2023-08-19T20:29:44.982036",
     "status": "completed"
    },
    "tags": []
   },
   "outputs": [],
   "source": [
    "r2= r2_score(Y_test,y_pred)"
   ]
  },
  {
   "cell_type": "code",
   "execution_count": 35,
   "id": "1ff1d46f",
   "metadata": {
    "execution": {
     "iopub.execute_input": "2023-08-19T20:29:45.041365Z",
     "iopub.status.busy": "2023-08-19T20:29:45.040650Z",
     "iopub.status.idle": "2023-08-19T20:29:45.046782Z",
     "shell.execute_reply": "2023-08-19T20:29:45.045815Z"
    },
    "papermill": {
     "duration": 0.025087,
     "end_time": "2023-08-19T20:29:45.048746",
     "exception": false,
     "start_time": "2023-08-19T20:29:45.023659",
     "status": "completed"
    },
    "tags": []
   },
   "outputs": [
    {
     "data": {
      "text/plain": [
       "0.7445422986536503"
      ]
     },
     "execution_count": 35,
     "metadata": {},
     "output_type": "execute_result"
    }
   ],
   "source": [
    "r2"
   ]
  },
  {
   "cell_type": "code",
   "execution_count": 36,
   "id": "d28be7bf",
   "metadata": {
    "execution": {
     "iopub.execute_input": "2023-08-19T20:29:45.083567Z",
     "iopub.status.busy": "2023-08-19T20:29:45.082690Z",
     "iopub.status.idle": "2023-08-19T20:29:45.090853Z",
     "shell.execute_reply": "2023-08-19T20:29:45.089427Z"
    },
    "papermill": {
     "duration": 0.027885,
     "end_time": "2023-08-19T20:29:45.093035",
     "exception": false,
     "start_time": "2023-08-19T20:29:45.065150",
     "status": "completed"
    },
    "tags": []
   },
   "outputs": [
    {
     "name": "stdout",
     "output_type": "stream",
     "text": [
      "mean_absolute_error :  4285.2194376336965\n",
      "mean_squared_error  :  38364832.19054552\n",
      "root_mean_absolute_error 6193.935113523997\n"
     ]
    }
   ],
   "source": [
    "mse = mean_absolute_error(Y_test, y_pred)\n",
    "msqe = mean_squared_error(Y_test, y_pred)\n",
    "rmse = np.sqrt(mean_squared_error(Y_test, y_pred))\n",
    "print(\"mean_absolute_error : \", mse)\n",
    "print(\"mean_squared_error  : \", msqe)\n",
    "print(\"root_mean_absolute_error\", rmse)"
   ]
  },
  {
   "cell_type": "code",
   "execution_count": 37,
   "id": "43e8e650",
   "metadata": {
    "execution": {
     "iopub.execute_input": "2023-08-19T20:29:45.132919Z",
     "iopub.status.busy": "2023-08-19T20:29:45.132182Z",
     "iopub.status.idle": "2023-08-19T20:29:45.139228Z",
     "shell.execute_reply": "2023-08-19T20:29:45.138160Z"
    },
    "papermill": {
     "duration": 0.026915,
     "end_time": "2023-08-19T20:29:45.141484",
     "exception": false,
     "start_time": "2023-08-19T20:29:45.114569",
     "status": "completed"
    },
    "tags": []
   },
   "outputs": [
    {
     "data": {
      "text/plain": [
       "array([3479.74699117,  -17.7138131 , 1996.12911449,  709.13483466,\n",
       "       9645.15790746, -357.95169305])"
      ]
     },
     "execution_count": 37,
     "metadata": {},
     "output_type": "execute_result"
    }
   ],
   "source": [
    "lr.coef_"
   ]
  },
  {
   "cell_type": "code",
   "execution_count": 38,
   "id": "0a7ab6a3",
   "metadata": {
    "execution": {
     "iopub.execute_input": "2023-08-19T20:29:45.181304Z",
     "iopub.status.busy": "2023-08-19T20:29:45.180350Z",
     "iopub.status.idle": "2023-08-19T20:29:45.187089Z",
     "shell.execute_reply": "2023-08-19T20:29:45.186142Z"
    },
    "papermill": {
     "duration": 0.027754,
     "end_time": "2023-08-19T20:29:45.189139",
     "exception": false,
     "start_time": "2023-08-19T20:29:45.161385",
     "status": "completed"
    },
    "tags": []
   },
   "outputs": [
    {
     "data": {
      "text/plain": [
       "13375.293505681308"
      ]
     },
     "execution_count": 38,
     "metadata": {},
     "output_type": "execute_result"
    }
   ],
   "source": [
    "lr.intercept_"
   ]
  },
  {
   "cell_type": "code",
   "execution_count": 39,
   "id": "f72b6111",
   "metadata": {
    "execution": {
     "iopub.execute_input": "2023-08-19T20:29:45.226377Z",
     "iopub.status.busy": "2023-08-19T20:29:45.225585Z",
     "iopub.status.idle": "2023-08-19T20:29:45.568093Z",
     "shell.execute_reply": "2023-08-19T20:29:45.566731Z"
    },
    "papermill": {
     "duration": 0.362395,
     "end_time": "2023-08-19T20:29:45.569574",
     "exception": true,
     "start_time": "2023-08-19T20:29:45.207179",
     "status": "failed"
    },
    "tags": []
   },
   "outputs": [
    {
     "ename": "NameError",
     "evalue": "name 'y_pred_poly' is not defined",
     "output_type": "error",
     "traceback": [
      "\u001b[0;31m---------------------------------------------------------------------------\u001b[0m",
      "\u001b[0;31mNameError\u001b[0m                                 Traceback (most recent call last)",
      "Cell \u001b[0;32mIn[39], line 1\u001b[0m\n\u001b[0;32m----> 1\u001b[0m plt\u001b[38;5;241m.\u001b[39mscatter(Y_test, \u001b[43my_pred_poly\u001b[49m)\n\u001b[1;32m      2\u001b[0m plt\u001b[38;5;241m.\u001b[39mtitle(\u001b[38;5;124m\"\u001b[39m\u001b[38;5;124mY_test VS y_pred_poly\u001b[39m\u001b[38;5;124m\"\u001b[39m)\n\u001b[1;32m      3\u001b[0m plt\u001b[38;5;241m.\u001b[39mylabel(\u001b[38;5;124m\"\u001b[39m\u001b[38;5;124my_pred_poly\u001b[39m\u001b[38;5;124m\"\u001b[39m)\n",
      "\u001b[0;31mNameError\u001b[0m: name 'y_pred_poly' is not defined"
     ]
    }
   ],
   "source": [
    "plt.scatter(Y_test, y_pred_poly)\n",
    "plt.title(\"Y_test VS y_pred_poly\")\n",
    "plt.ylabel(\"y_pred_poly\")\n",
    "plt.xlabel(\"Y_test\")"
   ]
  },
  {
   "cell_type": "code",
   "execution_count": null,
   "id": "41855252",
   "metadata": {
    "execution": {
     "iopub.execute_input": "2023-08-19T20:25:28.690281Z",
     "iopub.status.busy": "2023-08-19T20:25:28.689796Z",
     "iopub.status.idle": "2023-08-19T20:25:28.699706Z",
     "shell.execute_reply": "2023-08-19T20:25:28.698677Z",
     "shell.execute_reply.started": "2023-08-19T20:25:28.690245Z"
    },
    "papermill": {
     "duration": null,
     "end_time": null,
     "exception": null,
     "start_time": null,
     "status": "pending"
    },
    "tags": []
   },
   "outputs": [],
   "source": [
    "from sklearn.preprocessing import PolynomialFeatures"
   ]
  },
  {
   "cell_type": "code",
   "execution_count": null,
   "id": "ffc15967",
   "metadata": {
    "execution": {
     "iopub.execute_input": "2023-08-19T20:25:34.214252Z",
     "iopub.status.busy": "2023-08-19T20:25:34.213807Z",
     "iopub.status.idle": "2023-08-19T20:25:34.229029Z",
     "shell.execute_reply": "2023-08-19T20:25:34.227636Z",
     "shell.execute_reply.started": "2023-08-19T20:25:34.214217Z"
    },
    "papermill": {
     "duration": null,
     "end_time": null,
     "exception": null,
     "start_time": null,
     "status": "pending"
    },
    "tags": []
   },
   "outputs": [],
   "source": [
    "poly = PolynomialFeatures(degree=2, include_bias=True)\n",
    "\n",
    "X_train_trans = poly.fit_transform(X_train)\n",
    "X_test_trans = poly.transform(X_test)"
   ]
  },
  {
   "cell_type": "code",
   "execution_count": null,
   "id": "844f99d6",
   "metadata": {
    "execution": {
     "iopub.execute_input": "2023-08-19T20:25:35.508594Z",
     "iopub.status.busy": "2023-08-19T20:25:35.508135Z",
     "iopub.status.idle": "2023-08-19T20:25:35.532182Z",
     "shell.execute_reply": "2023-08-19T20:25:35.531217Z",
     "shell.execute_reply.started": "2023-08-19T20:25:35.508559Z"
    },
    "papermill": {
     "duration": null,
     "end_time": null,
     "exception": null,
     "start_time": null,
     "status": "pending"
    },
    "tags": []
   },
   "outputs": [],
   "source": [
    "lr = LinearRegression()\n",
    "lr.fit(X_train_trans,Y_train)\n",
    "\n",
    "y_pred = lr.predict(X_test_trans)\n",
    "\n",
    "r2_score(Y_test,y_pred)\n",
    "\n"
   ]
  },
  {
   "cell_type": "code",
   "execution_count": null,
   "id": "db0c0dfb",
   "metadata": {
    "execution": {
     "iopub.execute_input": "2023-08-19T20:25:36.208767Z",
     "iopub.status.busy": "2023-08-19T20:25:36.208353Z",
     "iopub.status.idle": "2023-08-19T20:25:36.631935Z",
     "shell.execute_reply": "2023-08-19T20:25:36.630858Z",
     "shell.execute_reply.started": "2023-08-19T20:25:36.208733Z"
    },
    "papermill": {
     "duration": null,
     "end_time": null,
     "exception": null,
     "start_time": null,
     "status": "pending"
    },
    "tags": []
   },
   "outputs": [],
   "source": [
    "plt.scatter(Y_test, y_pred)\n",
    "plt.title(\"Y_test VS y_pred\")\n",
    "plt.ylabel(\"y_pred\")\n",
    "plt.xlabel(\"Y_test\")"
   ]
  },
  {
   "cell_type": "code",
   "execution_count": null,
   "id": "500f288a",
   "metadata": {
    "execution": {
     "iopub.execute_input": "2023-08-19T20:25:37.089139Z",
     "iopub.status.busy": "2023-08-19T20:25:37.088467Z",
     "iopub.status.idle": "2023-08-19T20:25:37.096812Z",
     "shell.execute_reply": "2023-08-19T20:25:37.095521Z",
     "shell.execute_reply.started": "2023-08-19T20:25:37.089106Z"
    },
    "papermill": {
     "duration": null,
     "end_time": null,
     "exception": null,
     "start_time": null,
     "status": "pending"
    },
    "tags": []
   },
   "outputs": [],
   "source": [
    "print(lr.coef_)\n",
    "print(lr.intercept_)"
   ]
  },
  {
   "cell_type": "code",
   "execution_count": null,
   "id": "51d52a99",
   "metadata": {
    "execution": {
     "iopub.execute_input": "2023-08-19T20:25:37.908267Z",
     "iopub.status.busy": "2023-08-19T20:25:37.907901Z",
     "iopub.status.idle": "2023-08-19T20:25:37.943278Z",
     "shell.execute_reply": "2023-08-19T20:25:37.942037Z",
     "shell.execute_reply.started": "2023-08-19T20:25:37.908239Z"
    },
    "papermill": {
     "duration": null,
     "end_time": null,
     "exception": null,
     "start_time": null,
     "status": "pending"
    },
    "tags": []
   },
   "outputs": [],
   "source": [
    "from sklearn.linear_model import SGDRegressor\n",
    "\n",
    "poly = PolynomialFeatures(degree=2)\n",
    "\n",
    "X_train_trans_poly = poly.fit_transform(X_train)\n",
    "X_test_trans_poly = poly.transform(X_test)\n",
    "\n",
    "sgd = SGDRegressor(max_iter=100)\n",
    "sgd.fit(X_train_trans_poly,Y_train)"
   ]
  },
  {
   "cell_type": "code",
   "execution_count": null,
   "id": "37722c24",
   "metadata": {
    "execution": {
     "iopub.execute_input": "2023-08-19T20:25:38.854184Z",
     "iopub.status.busy": "2023-08-19T20:25:38.853755Z",
     "iopub.status.idle": "2023-08-19T20:25:38.881317Z",
     "shell.execute_reply": "2023-08-19T20:25:38.880217Z",
     "shell.execute_reply.started": "2023-08-19T20:25:38.854153Z"
    },
    "papermill": {
     "duration": null,
     "end_time": null,
     "exception": null,
     "start_time": null,
     "status": "pending"
    },
    "tags": []
   },
   "outputs": [],
   "source": [
    "sgd.fit(X_train_trans_poly,Y_train)\n",
    "\n",
    "y_pred_poly = lr.predict(X_test_trans_poly)\n",
    "\n",
    "r2_score(Y_test,y_pred_poly)\n"
   ]
  },
  {
   "cell_type": "code",
   "execution_count": null,
   "id": "aa3da199",
   "metadata": {
    "papermill": {
     "duration": null,
     "end_time": null,
     "exception": null,
     "start_time": null,
     "status": "pending"
    },
    "tags": []
   },
   "outputs": [],
   "source": []
  },
  {
   "cell_type": "code",
   "execution_count": null,
   "id": "48fb6e28",
   "metadata": {
    "papermill": {
     "duration": null,
     "end_time": null,
     "exception": null,
     "start_time": null,
     "status": "pending"
    },
    "tags": []
   },
   "outputs": [],
   "source": []
  }
 ],
 "metadata": {
  "kernelspec": {
   "display_name": "Python 3",
   "language": "python",
   "name": "python3"
  },
  "language_info": {
   "codemirror_mode": {
    "name": "ipython",
    "version": 3
   },
   "file_extension": ".py",
   "mimetype": "text/x-python",
   "name": "python",
   "nbconvert_exporter": "python",
   "pygments_lexer": "ipython3",
   "version": "3.10.12"
  },
  "papermill": {
   "default_parameters": {},
   "duration": 19.241318,
   "end_time": "2023-08-19T20:29:46.308394",
   "environment_variables": {},
   "exception": true,
   "input_path": "__notebook__.ipynb",
   "output_path": "__notebook__.ipynb",
   "parameters": {},
   "start_time": "2023-08-19T20:29:27.067076",
   "version": "2.4.0"
  }
 },
 "nbformat": 4,
 "nbformat_minor": 5
}
